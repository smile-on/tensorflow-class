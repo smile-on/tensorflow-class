{
 "cells": [
  {
   "cell_type": "markdown",
   "metadata": {},
   "source": [
    "# Practical CNN\n",
    "CNN is used in image recognition tasks: \n",
    "- *classification*, \n",
    "- *localization* and classification of single object, \n",
    "- *detection* of multiply objects.\n",
    "![1](1_cnn_classification_localization.jpg)\n",
    "![2](2_cnn_classification_localization.jpg)\n",
    "\n",
    "Detection problem is hard! Practical challenge is how to get lebel big data sets of images. Sliding window trick and FNN (**DeCAF**) used to be a way to label rounding boxes. With big images computationaly infeasiable. Using parallel CNN layers (**OverFeat**) is much more computationaly feasible to localize object.\n",
    "\n",
    "**CNN instead sliding window.**\n",
    "[2014 OverFeat: Integrated Recognition, Localization and Detection using Convolutional Networks](https://arxiv.org/abs/1312.6229?context=cs)\n",
    "![3](3_fcc_as_cnn.jpg)\n",
    "![4](4_sliding_window_as_cnn.jpg)\n"
   ]
  },
  {
   "cell_type": "markdown",
   "metadata": {},
   "source": [
    "\n",
    "**YOLO algorithm.**\n",
    "\n",
    "Handling multi objects in one run - each obj detection is assigned to only one cell (window). In practice define fine enought grid to handle multiply objects.\n",
    "\n",
    "[2015 You Only Look Once: Unified, Real-Time Object Detection](https://arxiv.org/abs/1506.02640)\n",
    "![5_detection_yolo.jpg](5_detection_yolo.jpg)\n",
    "![6_bounding_box_values.jpg](6_bounding_box_values.jpg)"
   ]
  },
  {
   "cell_type": "markdown",
   "metadata": {},
   "source": [
    "## Estimating accurasy of Object Detection\n",
    "Loss function of Detection specific.\n",
    "\n",
    "localization score = **Intersection Over Union**\n",
    "![7_IoU.jpg](7_IoU.jpg)\n",
    "\n",
    "classification score, each objec is detected only once  = **Nonmax Suppression**\n",
    "![8_nonmax1](8_nonmax1.jpg)\n",
    "![9_nonmax2.jpg](9_nonmax2.jpg)\n",
    "![10_nonmax_alg.jpg](10_nonmax_alg.jpg)\n",
    "\n",
    "**Anchor Boxes**\n",
    "![11_anchor1.jpg](11_anchor1.jpg)\n",
    "![12_anchor2.jpg](12_anchor2.jpg)\n"
   ]
  },
  {
   "cell_type": "markdown",
   "metadata": {},
   "source": [
    "**Region Proposals** R-CNN\n",
    "R-CNN even Faster version still slower than YOLO.\n",
    "![13_region_idea.jpg](13_region_idea.jpg)\n",
    "![14_region_algorithm.jpg](14_region_algorithm.jpg)\n"
   ]
  },
  {
   "cell_type": "markdown",
   "metadata": {},
   "source": [
    "Note, when dealing with complex problem use **bagging** idea - combining good models with different Bias-Variance trade-offs for ill-posed problems. \n",
    "![bias_variance.jpg](bias_variance.jpg)\n",
    "\n",
    "Example: A simple average of probabilities given by the two networks generated from different initializations or ensembled together by linear model with regularization method. Popular ensamble methods (regressions with different regularizations): linear, [Ridge](https://www.stat.cmu.edu/~ryantibs/datamining/lectures/16-modr1.pdf) (Also known as Tikhonov regularization), [Lasso](https://www.stat.cmu.edu/~ryantibs/datamining/lectures/17-modr2.pdf), [Elastic-Net](https://en.wikipedia.org/wiki/Elastic_net_regularization) (combination of Ridge and Lasso, linearly combines L1 and L2 penalties) regressions."
   ]
  }
 ],
 "metadata": {
  "kernelspec": {
   "display_name": "Python 3",
   "language": "python",
   "name": "python3"
  },
  "language_info": {
   "codemirror_mode": {
    "name": "ipython",
    "version": 3
   },
   "file_extension": ".py",
   "mimetype": "text/x-python",
   "name": "python",
   "nbconvert_exporter": "python",
   "pygments_lexer": "ipython3",
   "version": "3.6.8"
  }
 },
 "nbformat": 4,
 "nbformat_minor": 4
}
