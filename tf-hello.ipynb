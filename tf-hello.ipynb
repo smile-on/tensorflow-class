{
 "cells": [
  {
   "cell_type": "code",
   "execution_count": 1,
   "metadata": {},
   "outputs": [],
   "source": [
    "import tensorflow as tf\n",
    "import tensorflow.keras as keras\n",
    "import numpy as np"
   ]
  },
  {
   "cell_type": "markdown",
   "metadata": {},
   "source": [
    "The ‘Hello World’ of neural networks by using [Keras](https://keras.io/) with TensorFlow backend."
   ]
  },
  {
   "cell_type": "code",
   "execution_count": 6,
   "metadata": {},
   "outputs": [
    {
     "name": "stdout",
     "output_type": "stream",
     "text": [
      "Train on 6 samples\n",
      "Epoch 1/10\n",
      "6/6 [==============================] - 0s 24ms/sample - loss: 37.3157\n",
      "Epoch 2/10\n",
      "6/6 [==============================] - 0s 0s/sample - loss: 29.7021\n",
      "Epoch 3/10\n",
      "6/6 [==============================] - 0s 166us/sample - loss: 23.7051\n",
      "Epoch 4/10\n",
      "6/6 [==============================] - 0s 166us/sample - loss: 18.9800\n",
      "Epoch 5/10\n",
      "6/6 [==============================] - 0s 156us/sample - loss: 15.2558\n",
      "Epoch 6/10\n",
      "6/6 [==============================] - 0s 332us/sample - loss: 12.3191\n",
      "Epoch 7/10\n",
      "6/6 [==============================] - 0s 166us/sample - loss: 10.0021\n",
      "Epoch 8/10\n",
      "6/6 [==============================] - 0s 166us/sample - loss: 8.1729\n",
      "Epoch 9/10\n",
      "6/6 [==============================] - 0s 166us/sample - loss: 6.7275\n",
      "Epoch 10/10\n",
      "6/6 [==============================] - 0s 156us/sample - loss: 5.5842\n"
     ]
    },
    {
     "data": {
      "text/plain": [
       "<tensorflow.python.keras.callbacks.History at 0x1352307a160>"
      ]
     },
     "execution_count": 6,
     "metadata": {},
     "output_type": "execute_result"
    }
   ],
   "source": [
    "# simplest NN to fit data with linear correlation \n",
    "model = keras.Sequential([keras.layers.Dense(units=1, input_shape=[1])])\n",
    "model.compile(optimizer='sgd', loss='mean_squared_error')\n",
    "\n",
    "# y =2x-1\n",
    "xs = np.array([-1,  0, 1, 2, 3, 4 ], dtype=float)\n",
    "ys = np.array([-3, -1, 1, 3, 5, 7], dtype=float)\n",
    "\n",
    "model.fit(xs, ys, epochs=10)\n"
   ]
  },
  {
   "cell_type": "code",
   "execution_count": 7,
   "metadata": {},
   "outputs": [
    {
     "name": "stdout",
     "output_type": "stream",
     "text": [
      "[[8.023861]]\n"
     ]
    }
   ],
   "source": [
    "# test y=f(x) \n",
    "print(model.predict([10.0])) # 10*2-1 = 19"
   ]
  }
 ],
 "metadata": {
  "kernelspec": {
   "display_name": "Python 3",
   "language": "python",
   "name": "python3"
  },
  "language_info": {
   "codemirror_mode": {
    "name": "ipython",
    "version": 3
   },
   "file_extension": ".py",
   "mimetype": "text/x-python",
   "name": "python",
   "nbconvert_exporter": "python",
   "pygments_lexer": "ipython3",
   "version": "3.6.8"
  }
 },
 "nbformat": 4,
 "nbformat_minor": 4
}
