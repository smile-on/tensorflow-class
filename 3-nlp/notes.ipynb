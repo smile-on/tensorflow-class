{
 "cells": [
  {
   "cell_type": "markdown",
   "metadata": {},
   "source": [
    "# Text encoding\n",
    "## Encoding text word-by-word based on frequency\n",
    "\n",
    "* [Tokenizer](https://keras.io/preprocessing/text/#tokenizer) by word frequency with some minimal lexical pre-processing **texts_to_sequences()**\n",
    "* [pad_sequences](https://keras.io/preprocessing/sequence/#pad_sequences) up to expected NN input size.\n"
   ]
  },
  {
   "cell_type": "code",
   "execution_count": 1,
   "metadata": {},
   "outputs": [
    {
     "name": "stdout",
     "output_type": "stream",
     "text": [
      "{'i': 1, 'you': 2, 'are': 3, 'love': 4, 'do': 5, 'owe': 6, 'need': 7, 'a': 8, 'break': 9, \"your's\": 10, 'jokes': 11, 'the': 12, 'best': 13, 'so': 14, 'butefull': 15, 'to': 16, 'me': 17}\n"
     ]
    }
   ],
   "source": [
    "# Tokenizer example\n",
    "import tensorflow as tf\n",
    "from tensorflow import keras\n",
    "from tensorflow.keras.preprocessing.text import Tokenizer\n",
    "\n",
    "sentences = [\n",
    "    'I love you!',\n",
    "    'do i owe you?'\n",
    "    'i need a break',\n",
    "    'your\\'s jokes are the BEST.' ,\n",
    "    'you are so butefull to me'\n",
    "]\n",
    "\n",
    "tknzr = Tokenizer(num_words=100) # top 100\n",
    "tknzr.fit_on_texts(sentences)\n",
    "idx = tknzr.word_index\n",
    "print(idx)\n",
    "# note no punctuations or upper case"
   ]
  },
  {
   "cell_type": "code",
   "execution_count": 2,
   "metadata": {},
   "outputs": [
    {
     "name": "stdout",
     "output_type": "stream",
     "text": [
      "[[1, 4, 2], [5, 1, 6, 2, 1, 7, 8, 9], [10, 11, 3, 12, 13], [2, 3, 14, 15, 16, 17]]\n"
     ]
    }
   ],
   "source": [
    "sequences = tknzr.texts_to_sequences(sentences)\n",
    "print(sequences)"
   ]
  },
  {
   "cell_type": "code",
   "execution_count": 3,
   "metadata": {},
   "outputs": [
    {
     "name": "stdout",
     "output_type": "stream",
     "text": [
      "['i love you!', 'i REALLY love you!']\n",
      "[[1, 4, 2], [1, 4, 2]]\n"
     ]
    }
   ],
   "source": [
    "# ignoring unknown words by default, safe for inference with trained NN\n",
    "test_data = ['i love you!' , 'i REALLY love you!']\n",
    "print(test_data)\n",
    "print(tknzr.texts_to_sequences(test_data))"
   ]
  },
  {
   "cell_type": "code",
   "execution_count": 4,
   "metadata": {},
   "outputs": [
    {
     "name": "stdout",
     "output_type": "stream",
     "text": [
      "['i love you!', 'i REALLY love you!']\n",
      "[[2, 5, 3], [2, 1, 5, 3]]\n",
      "{'<OOV>': 1, 'i': 2, 'you': 3, 'are': 4, 'love': 5, 'do': 6, 'owe': 7, 'need': 8, 'a': 9, 'break': 10, \"your's\": 11, 'jokes': 12, 'the': 13, 'best': 14, 'so': 15, 'butefull': 16, 'to': 17, 'me': 18}\n"
     ]
    }
   ],
   "source": [
    "# to capture difference in meaning with unknown words, use special token to encode unknown word\n",
    "tknzr2 = Tokenizer(num_words=100, oov_token='<OOV>') # Out Of Vacubulary data\n",
    "tknzr2.fit_on_texts(sentences)\n",
    "print(test_data)\n",
    "print(tknzr2.texts_to_sequences(test_data))\n",
    "print(tknzr2.word_index)"
   ]
  },
  {
   "cell_type": "markdown",
   "metadata": {},
   "source": [
    "Evry sentence after encoding should be uniform (same length) by padding up to expected NN input size.\n",
    "* [pad_sequences](https://keras.io/preprocessing/sequence/#pad_sequences) is available in keras.preprocessing.sequence."
   ]
  },
  {
   "cell_type": "code",
   "execution_count": 5,
   "metadata": {},
   "outputs": [
    {
     "name": "stdout",
     "output_type": "stream",
     "text": [
      "[[2, 5, 3], [2, 1, 5, 3]] <class 'list'> \n",
      "----\n",
      " [[0 2 5 3]\n",
      " [2 1 5 3]] <class 'numpy.ndarray'>\n"
     ]
    }
   ],
   "source": [
    "# padding\n",
    "from tensorflow.keras.preprocessing.sequence import pad_sequences\n",
    "\n",
    "unpadded = tknzr2.texts_to_sequences(test_data)\n",
    "padded  = pad_sequences(unpadded) # default = pre \n",
    "print(unpadded, type(unpadded), '\\n----\\n', padded, type(padded))\n"
   ]
  },
  {
   "cell_type": "code",
   "execution_count": 6,
   "metadata": {},
   "outputs": [
    {
     "name": "stdout",
     "output_type": "stream",
     "text": [
      "[[1, 4, 2], [5, 1, 6, 2, 1, 7, 8, 9], [10, 11, 3, 12, 13], [2, 3, 14, 15, 16, 17]] \n",
      "---\n",
      " [[ 1  4  2  0  0]\n",
      " [ 5  1  6  2  1]\n",
      " [10 11  3 12 13]\n",
      " [ 2  3 14 15 16]]\n"
     ]
    }
   ],
   "source": [
    "# padding up to expected NN input size\n",
    "padded = pad_sequences(sequences, padding='post', truncating='post', maxlen=5)\n",
    "print( sequences, '\\n---\\n', padded) # pre or post"
   ]
  },
  {
   "cell_type": "markdown",
   "metadata": {},
   "source": [
    "## Embedding\n",
    "Embedding takes encoded words and establish sentiment from them, so that you can begin to classify and then later predict texts. Like a first layer that does encoding in pre-trined NN.\n",
    "\n",
    "There's a library called [TensorFlow Data Services](https://www.tensorflow.org/datasets/catalog/overview) (**TFDS**), that contains many data sets and lots of different categories. TFDS is useful in pre-trining embending function (NN). Exaple is given with [IMDB dataset](https://keras.io/datasets/#imdb-movie-reviews-sentiment-classification)."
   ]
  },
  {
   "cell_type": "code",
   "execution_count": 13,
   "metadata": {},
   "outputs": [
    {
     "data": {
      "text/plain": [
       "['abstract_reasoning',\n",
       " 'aflw2k3d',\n",
       " 'amazon_us_reviews',\n",
       " 'bair_robot_pushing_small',\n",
       " 'bigearthnet',\n",
       " 'binarized_mnist',\n",
       " 'binary_alpha_digits',\n",
       " 'caltech101',\n",
       " 'caltech_birds2010',\n",
       " 'caltech_birds2011']"
      ]
     },
     "execution_count": 13,
     "metadata": {},
     "output_type": "execute_result"
    }
   ],
   "source": [
    "# installed as 'tensorflow_datasets' python package\n",
    "import tensorflow_datasets as tfds\n",
    "\n",
    "# See all registered datasets\n",
    "tfds.list_builders()[:10]"
   ]
  },
  {
   "cell_type": "code",
   "execution_count": 8,
   "metadata": {},
   "outputs": [
    {
     "name": "stdout",
     "output_type": "stream",
     "text": [
      "Downloading data from https://storage.googleapis.com/tensorflow/tf-keras-datasets/imdb.npz\n",
      "17465344/17464789 [==============================] - 2s 0us/step\n"
     ]
    }
   ],
   "source": [
    "# Large Movie Review Dataset   https://ai.stanford.edu/~amaas/data/sentiment/\n",
    "from tensorflow.keras.datasets import imdb\n",
    "\n",
    "(x_train, y_train), (x_test, y_test) = imdb.load_data(\n",
    "    path=\"imdb.npz\", num_words=None, skip_top=0, maxlen=None, seed=113, \n",
    "    start_char=1, oov_char=2, index_from=3\n",
    ")"
   ]
  },
  {
   "cell_type": "markdown",
   "metadata": {},
   "source": [
    "**Embedding** is a specialized compression method [tf.keras.layers.Embedding](https://keras.io/layers/embeddings/#embedding) 1D fixed very long ints -> n-D fixed size floats.\n",
    "Embeding learns compress function as correlation extractor from labels (PCA type) during back propagation cycle.\n",
    "See:\n",
    "- [Word embeddings TF post](https://www.tensorflow.org/tutorials/text/word_embeddings)\n",
    "- [G crash course on Embeddings](https://developers.google.com/machine-learning/crash-course/embeddings/obtaining-embeddings)\n",
    "\n",
    "OOV number is actualy indicator of absence of information (null). Embending will perform better if informed on such nulls. Use **masking** to indicate some inputs shoul be ignored `layers.Embedding(input_dim=5000, output_dim=16, mask_zero=True)`"
   ]
  },
  {
   "cell_type": "code",
   "execution_count": 33,
   "metadata": {},
   "outputs": [
    {
     "name": "stdout",
     "output_type": "stream",
     "text": [
      "input_array[:2] \n",
      " [[102 435 860 270 106  71 700  20 614 121]\n",
      " [466 214 330 458  87 372  99 871 663 130]]\n",
      "Model: \"sequential_14\"\n",
      "_________________________________________________________________\n",
      "Layer (type)                 Output Shape              Param #   \n",
      "=================================================================\n",
      "embedding_14 (Embedding)     (None, 10, 3)             3000      \n",
      "_________________________________________________________________\n",
      "global_average_pooling1d_14  (None, 3)                 0         \n",
      "_________________________________________________________________\n",
      "dense_14 (Dense)             (None, 1)                 4         \n",
      "=================================================================\n",
      "Total params: 3,004\n",
      "Trainable params: 3,004\n",
      "Non-trainable params: 0\n",
      "_________________________________________________________________\n"
     ]
    },
    {
     "data": {
      "image/png": "[encoded data removed]",
      "text/plain": [
       "<Figure size 720x360 with 2 Axes>"
      ]
     },
     "metadata": {
      "needs_background": "light"
     },
     "output_type": "display_data"
    }
   ],
   "source": [
    "import numpy as np\n",
    "import tensorflow.keras.models as models\n",
    "import tensorflow.keras.layers as layers\n",
    "import keras_util as u\n",
    "\n",
    "vocab_size = 1000\n",
    "embedding_dim = 3\n",
    "max_length = 10\n",
    "samples = 32 # rows - sentences\n",
    "\n",
    "np.random.seed(42)\n",
    "# after linear encoding and padding\n",
    "input = np.random.randint(vocab_size, size=(samples, max_length))\n",
    "labels = np.random.randint(1, size=(samples, 1)) # binary\n",
    "print('input_array[:2] \\n', input_array[:2])\n",
    "\n",
    "embending = layers.Embedding(vocab_size, embedding_dim, input_length=max_length)\n",
    "model = models.Sequential([\n",
    "    embending,\n",
    "    layers.GlobalAveragePooling1D(),\n",
    "    layers.Dense(1, activation='sigmoid')\n",
    "])\n",
    "model.summary()\n",
    "model.compile('adam', 'binary_crossentropy', metrics=['accuracy'])\n",
    "\n",
    "history = model.fit(input, labels, validation_split=0.1\n",
    "                   , epochs=10, verbose=0)\n",
    "u.plot_history(history)"
   ]
  },
  {
   "cell_type": "code",
   "execution_count": 37,
   "metadata": {},
   "outputs": [
    {
     "name": "stdout",
     "output_type": "stream",
     "text": [
      "[[102 435 860 270 106  71 700  20 614 121]\n",
      " [466 214 330 458  87 372  99 871 663 130]]\n",
      "tf.Tensor(\n",
      "[[[ 0.00818308 -0.00413965 -0.05619576]\n",
      "  [-0.01588088  0.03778666  0.02479491]\n",
      "  [-0.02659393  0.03635139 -0.03850446]\n",
      "  [ 0.0307826   0.0293899  -0.00930943]\n",
      "  [ 0.01420298  0.01660119  0.03567019]\n",
      "  [ 0.02897268 -0.011735   -0.03600772]\n",
      "  [ 0.02294286  0.0018158  -0.03317294]\n",
      "  [ 0.0227377   0.02730775 -0.05367161]\n",
      "  [ 0.02122924 -0.03668297 -0.0597632 ]\n",
      "  [ 0.00257829 -0.02196066  0.03746425]]\n",
      "\n",
      " [[ 0.00734752 -0.03265685  0.02450337]\n",
      "  [ 0.05810168 -0.03306248 -0.05680072]\n",
      "  [ 0.05464444 -0.0220705   0.02349565]\n",
      "  [ 0.03908596  0.04668885 -0.02637091]\n",
      "  [ 0.0365642   0.04884149 -0.05514646]\n",
      "  [ 0.05256447  0.01787435 -0.02748318]\n",
      "  [ 0.02500096 -0.02295047 -0.04190208]\n",
      "  [-0.00658025  0.03728316  0.01405924]\n",
      "  [ 0.05977383  0.01712094  0.01901042]\n",
      "  [ 0.01216917 -0.01609586 -0.02663914]]], shape=(2, 10, 3), dtype=float32)\n"
     ]
    }
   ],
   "source": [
    "# look at embending of first rows\n",
    "rows_n = 2\n",
    "embending_input = input_array[:rows_n]\n",
    "embending_output = embending(embending_input)\n",
    "assert embending_output.shape == (rows_n, max_length, embedding_dim)\n",
    "print(embending_input)\n",
    "print(embending_output)"
   ]
  },
  {
   "cell_type": "code",
   "execution_count": 41,
   "metadata": {},
   "outputs": [
    {
     "name": "stdout",
     "output_type": "stream",
     "text": [
      "lablels \n",
      " [[0]\n",
      " [0]]\n",
      "predictions \n",
      " [[0.49384236]\n",
      " [0.49149117]]\n"
     ]
    }
   ],
   "source": [
    "predictions = model.predict(input_array[:rows_n])\n",
    "print(\"lablels \\n\", labels[:rows_n])\n",
    "print(\"predictions \\n\", predictions)"
   ]
  },
  {
   "cell_type": "markdown",
   "metadata": {},
   "source": [
    "In practice *advanced encoding* is needed to capture additional relevant information (aka context, emoji, sarcasm). **Attention** - one of the methods to help selecting such indirect information. For an example of attention mechanism study *seq2seq* model in [TensorFlow Neural Machine Translation (seq2seq) tutorial](https://github.com/tensorflow/nmt) and [2015 Attention-based Neural Machine Translation Luong's paper](https://arxiv.org/abs/1508.04025v5)."
   ]
  },
  {
   "cell_type": "markdown",
   "metadata": {},
   "source": [
    "## N dimentional vector visualization\n",
    "Similar as in CNN to see learned features is very benefitial for practical NN modeling. TF offers [embending projector](https://projector.tensorflow.org/). See [TF emendig doc](https://www.tensorflow.org/tutorials/text/word_embeddings#retrieve_the_learned_embeddings) on example of dumping learned weights in embending layer.\n",
    "\n",
    "Class `tfds.features.text.SubwordTextEncoder` is invertible TextEncoder using word pieces with a byte-level fallback. See [Transformer model for language understanding](https://www.tensorflow.org/tutorials/text/transformer). It goes deep in word structure to encode even more information. Case sensitive, accounts for punctuation and parts of the words (prefix, suffix?). Note, SubwordTextEncoder encodes by word parts. Sequencing position became critical for efficient learning, use it with RNN!"
   ]
  }
 ],
 "metadata": {
  "kernelspec": {
   "display_name": "Python 3",
   "language": "python",
   "name": "python3"
  },
  "language_info": {
   "codemirror_mode": {
    "name": "ipython",
    "version": 3
   },
   "file_extension": ".py",
   "mimetype": "text/x-python",
   "name": "python",
   "nbconvert_exporter": "python",
   "pygments_lexer": "ipython3",
   "version": "3.6.8"
  }
 },
 "nbformat": 4,
 "nbformat_minor": 4
}
