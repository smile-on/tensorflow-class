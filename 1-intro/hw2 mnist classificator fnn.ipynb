{
 "cells": [
  {
   "cell_type": "markdown",
   "metadata": {
    "colab_type": "text",
    "id": "tOoyQ70H00_s"
   },
   "source": [
    "## Exercise 2\n",
    "In the course you learned how to do classificaiton using Fashion MNIST, a data set containing items of clothing. There's another, similar dataset called MNIST which has items of handwriting -- the digits 0 through 9.\n",
    "\n",
    "Write an MNIST classifier that trains to 99% accuracy or above, and does it without a fixed number of epochs -- i.e. you should stop training once you reach that level of accuracy.\n",
    "\n",
    "Some notes:\n",
    "1. It should succeed in less than 10 epochs, so it is okay to change epochs= to 10, but nothing larger\n",
    "2. When it reaches 99% or greater it should print out the string \"Reached 99% accuracy so cancelling training!\"\n",
    "3. If you add any additional variables, make sure you use the same names as the ones used in the class\n",
    "\n",
    "I've started the code for you below -- how would you finish it? "
   ]
  },
  {
   "cell_type": "code",
   "execution_count": 27,
   "metadata": {},
   "outputs": [],
   "source": [
    "import tensorflow as tf\n",
    "from os import path, getcwd, chdir\n",
    "\n",
    "# DO NOT CHANGE THE LINE BELOW. If you are developing in a local\n",
    "# environment, then grab mnist.npz from the Coursera Jupyter Notebook\n",
    "# and place it inside a local folder and edit the path to that location\n",
    "path = f\"{getcwd()}/../tmp2/mnist.npz\""
   ]
  },
  {
   "cell_type": "code",
   "execution_count": 28,
   "metadata": {},
   "outputs": [
    {
     "name": "stdout",
     "output_type": "stream",
     "text": [
      "bin img  (60000, 28, 28) dot values 0 33.318421449829934 255\n",
      "label 5 training_labels (60000,) 0 9\n"
     ]
    },
    {
     "data": {
      "image/png": "[encoded data removed]",
      "text/plain": [
       "<Figure size 432x288 with 1 Axes>"
      ]
     },
     "metadata": {
      "needs_background": "light"
     },
     "output_type": "display_data"
    }
   ],
   "source": [
    "    import matplotlib.pyplot as plt\n",
    "    import numpy as np\n",
    "    \n",
    "    mnist = tf.keras.datasets.mnist\n",
    "    (training_images, training_labels),(test_images, test_labels) = mnist.load_data(path=path)\n",
    "    \n",
    "    print('bin img ', training_images.shape, 'dot values', np.min(training_images), np.mean(training_images), np.max(training_images))\n",
    "    print('label', training_labels[0], 'training_labels', training_labels.shape, np.min(training_labels), np.max(training_labels))\n",
    "    plt.imshow(training_images[0])\n",
    "    plt.show()\n"
   ]
  },
  {
   "cell_type": "code",
   "execution_count": 33,
   "metadata": {
    "colab": {},
    "colab_type": "code",
    "id": "9rvXQGAA0ssC"
   },
   "outputs": [],
   "source": [
    "if(tf.version.VERSION >'2.0'):\n",
    "    accuracy = 'accuracy'\n",
    "else: # v1.x\n",
    "    accuracy = 'acc'\n",
    "\n",
    "# YOUR CODE SHOULD START HERE\n",
    "class earlyStop(tf.keras.callbacks.Callback):\n",
    "  def on_epoch_end(self, epoch, logs={}):\n",
    "    # if(logs.get('acc')>=0.99 and logs.get('val_acc') >= 0.99):\n",
    "    if(logs.get(accuracy) >= 0.99):\n",
    "      print(\"\\nReached 99% accuracy so cancelling training!\")\n",
    "      self.model.stop_training = True\n",
    "\n",
    "# YOUR CODE SHOULD END HERE\n",
    "\n",
    "mnist = tf.keras.datasets.mnist\n",
    "\n",
    "(x_train, y_train),(x_test, y_test) = mnist.load_data(path=path)\n",
    "# YOUR CODE SHOULD START HERE\n",
    "(x_train, x_test) = ((x_train - 33.32) /255.0, (x_test - 33.32) /255.0)\n",
    "# YOUR CODE SHOULD END HERE\n",
    "\n",
    "# GRADED FUNCTION: train_mnist\n",
    "def train_mnist():\n",
    "    # Please write your code only where you are indicated.\n",
    "    # please do not remove # model fitting inline comments.\n",
    "    global model\n",
    "    model = tf.keras.models.Sequential([\n",
    "        # YOUR CODE SHOULD START HERE\n",
    "      tf.keras.layers.Flatten(),\n",
    "      tf.keras.layers.Dense(600, activation=tf.nn.relu),\n",
    "      tf.keras.layers.Dense(30, activation=tf.nn.relu),\n",
    "      tf.keras.layers.Dense(10, activation=tf.nn.softmax)\n",
    "        # YOUR CODE SHOULD END HERE\n",
    "    ])\n",
    "    \n",
    "    model.compile(optimizer='adam',\n",
    "                  loss='sparse_categorical_crossentropy',\n",
    "                  metrics=['accuracy'])\n",
    "    \n",
    "    # model fitting\n",
    "    global history\n",
    "    history = model.fit(# YOUR CODE SHOULD START HERE\n",
    "        x_train, y_train, epochs=10, callbacks=[earlyStop()], shuffle=True, batch_size=600,\n",
    "        validation_split=0.1\n",
    "              # YOUR CODE SHOULD END HERE\n",
    "    )\n",
    "    # model fitting\n",
    "    # return history.epoch, history.history['acc'][-1]\n",
    "    return history.epoch, history.history[accuracy][-1]"
   ]
  },
  {
   "cell_type": "code",
   "execution_count": 34,
   "metadata": {},
   "outputs": [
    {
     "name": "stdout",
     "output_type": "stream",
     "text": [
      "Train on 54000 samples, validate on 6000 samples\n",
      "Epoch 1/10\n",
      "54000/54000 [==============================] - 1s 24us/sample - loss: 0.4732 - accuracy: 0.8613 - val_loss: 0.1698 - val_accuracy: 0.9557\n",
      "Epoch 2/10\n",
      "54000/54000 [==============================] - 1s 16us/sample - loss: 0.1790 - accuracy: 0.9484 - val_loss: 0.1163 - val_accuracy: 0.9685\n",
      "Epoch 3/10\n",
      "54000/54000 [==============================] - 1s 16us/sample - loss: 0.1234 - accuracy: 0.9646 - val_loss: 0.0925 - val_accuracy: 0.9767\n",
      "Epoch 4/10\n",
      "54000/54000 [==============================] - 1s 15us/sample - loss: 0.0917 - accuracy: 0.9738 - val_loss: 0.0821 - val_accuracy: 0.9767\n",
      "Epoch 5/10\n",
      "54000/54000 [==============================] - 1s 16us/sample - loss: 0.0724 - accuracy: 0.9795 - val_loss: 0.0766 - val_accuracy: 0.9795\n",
      "Epoch 6/10\n",
      "54000/54000 [==============================] - 1s 16us/sample - loss: 0.0571 - accuracy: 0.9841 - val_loss: 0.0721 - val_accuracy: 0.9805\n",
      "Epoch 7/10\n",
      "54000/54000 [==============================] - 1s 15us/sample - loss: 0.0456 - accuracy: 0.9873 - val_loss: 0.0665 - val_accuracy: 0.9807\n",
      "Epoch 8/10\n",
      "54000/54000 [==============================] - 1s 15us/sample - loss: 0.0379 - accuracy: 0.9898 - val_loss: 0.0616 - val_accuracy: 0.9830\n",
      "Epoch 9/10\n",
      "53400/54000 [============================>.] - ETA: 0s - loss: 0.0309 - accuracy: 0.9919\n",
      "Reached 99% accuracy so cancelling training!\n",
      "54000/54000 [==============================] - 1s 15us/sample - loss: 0.0309 - accuracy: 0.9919 - val_loss: 0.0651 - val_accuracy: 0.9822\n",
      "Model: \"sequential_10\"\n",
      "_________________________________________________________________\n",
      "Layer (type)                 Output Shape              Param #   \n",
      "=================================================================\n",
      "flatten_10 (Flatten)         multiple                  0         \n",
      "_________________________________________________________________\n",
      "dense_30 (Dense)             multiple                  471000    \n",
      "_________________________________________________________________\n",
      "dense_31 (Dense)             multiple                  18030     \n",
      "_________________________________________________________________\n",
      "dense_32 (Dense)             multiple                  310       \n",
      "=================================================================\n",
      "Total params: 489,340\n",
      "Trainable params: 489,340\n",
      "Non-trainable params: 0\n",
      "_________________________________________________________________\n"
     ]
    }
   ],
   "source": [
    "train_mnist()\n",
    "model.summary()"
   ]
  },
  {
   "cell_type": "code",
   "execution_count": 35,
   "metadata": {
    "colab": {},
    "colab_type": "code",
    "id": "9rvXQGAA0ssC"
   },
   "outputs": [
    {
     "data": {
      "image/png": "[encoded data removed]",
      "text/plain": [
       "<Figure size 432x288 with 1 Axes>"
      ]
     },
     "metadata": {
      "needs_background": "light"
     },
     "output_type": "display_data"
    },
    {
     "data": {
      "image/png": "[encoded data removed]",
      "text/plain": [
       "<Figure size 432x288 with 1 Axes>"
      ]
     },
     "metadata": {
      "needs_background": "light"
     },
     "output_type": "display_data"
    }
   ],
   "source": [
    "plt.plot(history.history['accuracy'])\n",
    "plt.plot(history.history['val_accuracy'])\n",
    "plt.title('Model accuracy')\n",
    "plt.ylabel('Accuracy')\n",
    "plt.xlabel('Epoch')\n",
    "plt.legend(['Train', 'Test'], loc='upper left')\n",
    "plt.show()\n",
    "\n",
    "# Plot training & validation loss values\n",
    "plt.plot(history.history['loss'])\n",
    "plt.plot(history.history['val_loss'])\n",
    "plt.title('Model loss')\n",
    "plt.ylabel('Loss')\n",
    "plt.xlabel('Epoch')\n",
    "plt.legend(['Train', 'Test'], loc='upper left')\n",
    "plt.show()"
   ]
  },
  {
   "cell_type": "code",
   "execution_count": 36,
   "metadata": {},
   "outputs": [
    {
     "name": "stdout",
     "output_type": "stream",
     "text": [
      "10000/1 - 0s - loss: 0.0353 - accuracy: 0.9791\n"
     ]
    },
    {
     "data": {
      "text/plain": [
       "[0.06968312733990606, 0.9791]"
      ]
     },
     "execution_count": 36,
     "metadata": {},
     "output_type": "execute_result"
    }
   ],
   "source": [
    "model.evaluate(x_test, y_test, verbose=2)"
   ]
  }
 ],
 "metadata": {
  "coursera": {
   "course_slug": "introduction-tensorflow",
   "graded_item_id": "d6dew",
   "launcher_item_id": "FExZ4"
  },
  "kernelspec": {
   "display_name": "Python 3",
   "language": "python",
   "name": "python3"
  },
  "language_info": {
   "codemirror_mode": {
    "name": "ipython",
    "version": 3
   },
   "file_extension": ".py",
   "mimetype": "text/x-python",
   "name": "python",
   "nbconvert_exporter": "python",
   "pygments_lexer": "ipython3",
   "version": "3.6.8"
  }
 },
 "nbformat": 4,
 "nbformat_minor": 4
}
