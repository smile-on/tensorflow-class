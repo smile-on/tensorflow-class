{
 "cells": [
  {
   "cell_type": "markdown",
   "metadata": {},
   "source": [
    "# Improve Fashion MNIST using Convolutions.\n",
    "Hit 99.8% accuracy."
   ]
  },
  {
   "cell_type": "code",
   "execution_count": 11,
   "metadata": {},
   "outputs": [],
   "source": [
    "import tensorflow as tf\n",
    "from os import path, getcwd, chdir\n",
    "\n",
    "# DO NOT CHANGE THE LINE BELOW. If you are developing in a local\n",
    "# environment, then grab mnist.npz from the Coursera Jupyter Notebook\n",
    "# and place it inside a local folder and edit the path to that location\n",
    "path = f\"{getcwd()}/../tmp2/mnist.npz\""
   ]
  },
  {
   "cell_type": "code",
   "execution_count": 124,
   "metadata": {},
   "outputs": [],
   "source": [
    "if(tf.version.VERSION >'2.0'):\n",
    "    accuracy = 'accuracy'\n",
    "else: # v1.x\n",
    "    accuracy = 'acc'\n",
    "\n",
    "def normalize(x):\n",
    "    return (x-33.32)/222.0\n",
    "\n",
    "class earlyStop(tf.keras.callbacks.Callback):\n",
    "  def on_epoch_end(self, epoch, logs={}):\n",
    "    if(logs.get(accuracy) >= 0.998):\n",
    "      print(\"\\nReached 99.8% accuracy so cancelling training!\")\n",
    "      self.model.stop_training = True\n",
    "\n",
    "    \n",
    "mnist = tf.keras.datasets.mnist\n",
    "\n",
    "(x_train, y_train),(x_test, y_test) = mnist.load_data(path=path)\n",
    "# YOUR CODE SHOULD START HERE\n",
    "(x_train, x_test) = normalize(x_train), normalize(x_test)\n",
    "x_train = x_train.reshape(60000, 28, 28, 1)\n",
    "x_test = x_test.reshape(10000, 28, 28, 1)\n",
    "        \n",
    "# GRADED FUNCTION: train_mnist\n",
    "def train_mnist():\n",
    "    # Please write your code only where you are indicated.\n",
    "    # please do not remove # model fitting inline comments.\n",
    "\n",
    "    # YOUR CODE SHOULD END HERE\n",
    "    global model\n",
    "    model = tf.keras.models.Sequential([\n",
    "        # YOUR CODE SHOULD START HERE\n",
    "        tf.keras.layers.Conv2D(128, (3,3), activation='relu', input_shape=(28, 28, 1)),\n",
    "        tf.keras.layers.MaxPooling2D(2, 2),\n",
    "        tf.keras.layers.Conv2D(512, (3,3), activation='relu'),\n",
    "        tf.keras.layers.MaxPooling2D(2,2),\n",
    "        tf.keras.layers.Flatten(),\n",
    "        tf.keras.layers.Dense(512, activation=tf.nn.relu),\n",
    "        tf.keras.layers.Dense(10, activation=tf.nn.softmax)\n",
    "        # YOUR CODE SHOULD END HERE\n",
    "    ])\n",
    "    model.summary()\n",
    "\n",
    "    model.compile(optimizer='adam',\n",
    "                  loss='sparse_categorical_crossentropy',\n",
    "                  metrics=['accuracy'])\n",
    "    \n",
    "    # model fitting\n",
    "    global history\n",
    "    history = model.fit(# YOUR CODE SHOULD START HERE\n",
    "        x_train, y_train, epochs=10, callbacks=[earlyStop()], shuffle=True, batch_size=600,\n",
    "        validation_split=0.01\n",
    "              # YOUR CODE SHOULD END HERE\n",
    "    )\n",
    "    # model fitting\n",
    "    # return history.epoch, history.history['acc'][-1]\n",
    "    return history.epoch, history.history[accuracy][-1]"
   ]
  },
  {
   "cell_type": "code",
   "execution_count": 125,
   "metadata": {},
   "outputs": [
    {
     "name": "stdout",
     "output_type": "stream",
     "text": [
      "Model: \"sequential_47\"\n",
      "_________________________________________________________________\n",
      "Layer (type)                 Output Shape              Param #   \n",
      "=================================================================\n",
      "conv2d_97 (Conv2D)           (None, 26, 26, 128)       1280      \n",
      "_________________________________________________________________\n",
      "max_pooling2d_97 (MaxPooling (None, 13, 13, 128)       0         \n",
      "_________________________________________________________________\n",
      "conv2d_98 (Conv2D)           (None, 11, 11, 512)       590336    \n",
      "_________________________________________________________________\n",
      "max_pooling2d_98 (MaxPooling (None, 5, 5, 512)         0         \n",
      "_________________________________________________________________\n",
      "flatten_47 (Flatten)         (None, 12800)             0         \n",
      "_________________________________________________________________\n",
      "dense_103 (Dense)            (None, 512)               6554112   \n",
      "_________________________________________________________________\n",
      "dense_104 (Dense)            (None, 10)                5130      \n",
      "=================================================================\n",
      "Total params: 7,150,858\n",
      "Trainable params: 7,150,858\n",
      "Non-trainable params: 0\n",
      "_________________________________________________________________\n",
      "Train on 59400 samples, validate on 600 samples\n",
      "Epoch 1/10\n",
      "59400/59400 [==============================] - 164s 3ms/sample - loss: 0.2415 - accuracy: 0.9253 - val_loss: 0.1152 - val_accuracy: 0.9817\n",
      "Epoch 2/10\n",
      "59400/59400 [==============================] - 164s 3ms/sample - loss: 0.0479 - accuracy: 0.9852 - val_loss: 0.0971 - val_accuracy: 0.9867\n",
      "Epoch 3/10\n",
      "59400/59400 [==============================] - 161s 3ms/sample - loss: 0.0311 - accuracy: 0.9905 - val_loss: 0.0793 - val_accuracy: 0.9883\n",
      "Epoch 4/10\n",
      "59400/59400 [==============================] - 162s 3ms/sample - loss: 0.0230 - accuracy: 0.9927 - val_loss: 0.0772 - val_accuracy: 0.9883\n",
      "Epoch 5/10\n",
      "59400/59400 [==============================] - 161s 3ms/sample - loss: 0.0168 - accuracy: 0.9951 - val_loss: 0.0848 - val_accuracy: 0.9867\n",
      "Epoch 6/10\n",
      "59400/59400 [==============================] - 161s 3ms/sample - loss: 0.0124 - accuracy: 0.9959 - val_loss: 0.0816 - val_accuracy: 0.9883\n",
      "Epoch 7/10\n",
      "59400/59400 [==============================] - 162s 3ms/sample - loss: 0.0094 - accuracy: 0.9969 - val_loss: 0.0923 - val_accuracy: 0.9867\n",
      "Epoch 8/10\n",
      "59400/59400 [==============================] - 163s 3ms/sample - loss: 0.0082 - accuracy: 0.9972 - val_loss: 0.0860 - val_accuracy: 0.9883\n",
      "Epoch 9/10\n",
      "59400/59400 [==============================] - 159s 3ms/sample - loss: 0.0056 - accuracy: 0.9980 - val_loss: 0.0857 - val_accuracy: 0.9883\n",
      "Epoch 10/10\n",
      "58800/59400 [============================>.] - ETA: 1s - loss: 0.0035 - accuracy: 0.9989\n",
      "Reached 99.8% accuracy so cancelling training!\n",
      "59400/59400 [==============================] - 160s 3ms/sample - loss: 0.0036 - accuracy: 0.9988 - val_loss: 0.1072 - val_accuracy: 0.9883\n"
     ]
    },
    {
     "data": {
      "text/plain": [
       "([0, 1, 2, 3, 4, 5, 6, 7, 8, 9], 0.99882156)"
      ]
     },
     "execution_count": 125,
     "metadata": {},
     "output_type": "execute_result"
    }
   ],
   "source": [
    "train_mnist()"
   ]
  },
  {
   "cell_type": "markdown",
   "metadata": {},
   "source": [
    " <table>\n",
    "    <tr><td>model</td><td> train accuracy</td><td>test accuracy</td></tr>\n",
    "    <tr><td>FNN </td><td>0.9917 </td><td>0.9791 </td></tr>\n",
    "    <tr><td>CNN </td><td>0.9988 </td><td>0.9925 </td></tr>\n",
    "</table>\n"
   ]
  },
  {
   "cell_type": "code",
   "execution_count": 128,
   "metadata": {},
   "outputs": [
    {
     "data": {
      "image/png": "[encoded data removed]",
      "text/plain": [
       "<Figure size 432x288 with 1 Axes>"
      ]
     },
     "metadata": {
      "needs_background": "light"
     },
     "output_type": "display_data"
    },
    {
     "data": {
      "image/png": "[encoded data removed]",
      "text/plain": [
       "<Figure size 432x288 with 1 Axes>"
      ]
     },
     "metadata": {
      "needs_background": "light"
     },
     "output_type": "display_data"
    }
   ],
   "source": [
    "plt.plot(history.history['accuracy'])\n",
    "plt.plot(history.history['val_accuracy'])\n",
    "plt.title('Model accuracy')\n",
    "plt.ylabel('Accuracy')\n",
    "plt.xlabel('Epoch')\n",
    "plt.legend(['Train', 'Test'], loc='upper left')\n",
    "plt.show()\n",
    "\n",
    "# Plot training & validation loss values\n",
    "plt.plot(history.history['loss'])\n",
    "plt.plot(history.history['val_loss'])\n",
    "plt.title('Model loss')\n",
    "plt.ylabel('Loss')\n",
    "plt.xlabel('Epoch')\n",
    "plt.legend(['Train', 'Test'], loc='upper left')\n",
    "plt.show()"
   ]
  },
  {
   "cell_type": "code",
   "execution_count": 129,
   "metadata": {},
   "outputs": [
    {
     "name": "stdout",
     "output_type": "stream",
     "text": [
      "10000/1 - 6s - loss: 0.0129 - accuracy: 0.9925\n"
     ]
    },
    {
     "data": {
      "text/plain": [
       "[0.025749647825568673, 0.9925]"
      ]
     },
     "execution_count": 129,
     "metadata": {},
     "output_type": "execute_result"
    }
   ],
   "source": [
    "model.evaluate(x_test, y_test, verbose=2)"
   ]
  }
 ],
 "metadata": {
  "kernelspec": {
   "display_name": "Python 3",
   "language": "python",
   "name": "python3"
  },
  "language_info": {
   "codemirror_mode": {
    "name": "ipython",
    "version": 3
   },
   "file_extension": ".py",
   "mimetype": "text/x-python",
   "name": "python",
   "nbconvert_exporter": "python",
   "pygments_lexer": "ipython3",
   "version": "3.6.8"
  }
 },
 "nbformat": 4,
 "nbformat_minor": 4
}
