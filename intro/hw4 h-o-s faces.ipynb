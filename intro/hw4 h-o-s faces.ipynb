{
 "cells": [
  {
   "cell_type": "markdown",
   "metadata": {},
   "source": [
    "## Happy or Sad\n",
    "toy problem CNN"
   ]
  },
  {
   "cell_type": "code",
   "execution_count": 1,
   "metadata": {},
   "outputs": [],
   "source": [
    "import os\n",
    "import zipfile\n",
    "from os import path, getcwd, chdir\n",
    "\n",
    "# DO NOT CHANGE THE LINE BELOW. If you are developing in a local\n",
    "# environment, then grab happy-or-sad.zip from the Coursera Jupyter Notebook\n",
    "# and place it inside a local folder and edit the path to that location\n",
    "zip_path = f\"{getcwd()}/../tmp2/happy-or-sad.zip\"\n",
    "data_path = \"C:/usr/tmp/h-or-s\" # This is the source directory for training images\n",
    "\n",
    "zip_ref = zipfile.ZipFile(zip_path, 'r')\n",
    "zip_ref.extractall(data_path)\n",
    "zip_ref.close()"
   ]
  },
  {
   "cell_type": "code",
   "execution_count": 2,
   "metadata": {},
   "outputs": [],
   "source": [
    "import tensorflow as tf\n",
    "DESIRED_ACCURACY = 0.999\n",
    "\n",
    "class earlyStop(tf.keras.callbacks.Callback):\n",
    "  def on_epoch_end(self, epoch, logs={}):\n",
    "    if(logs.get('accuracy') >= DESIRED_ACCURACY):\n",
    "        # The Expected output: \"Reached 99.9% accuracy so cancelling training!\"\"\n",
    "        print(\"\\nReached 99.9% accuracy so cancelling training!\")\n",
    "        self.model.stop_training = True\n",
    "\n",
    "callbacks = earlyStop()\n"
   ]
  },
  {
   "cell_type": "code",
   "execution_count": 3,
   "metadata": {},
   "outputs": [
    {
     "name": "stdout",
     "output_type": "stream",
     "text": [
      "Found 72 images belonging to 2 classes.\n",
      "Found 8 images belonging to 2 classes.\n"
     ]
    }
   ],
   "source": [
    "# This code block should create an instance of an ImageDataGenerator called train_datagen \n",
    "# And a train_generator by calling train_datagen.flow_from_directory\n",
    "\n",
    "from tensorflow.keras.preprocessing.image import ImageDataGenerator\n",
    "\n",
    "train_datagen = ImageDataGenerator(rescale=1/255, validation_split=0.1)\n",
    "\n",
    "# Please use a target_size of 150 X 150.\n",
    "train_generator = train_datagen.flow_from_directory(\n",
    "    data_path,  \n",
    "    target_size=(150, 150),\n",
    "    color_mode='grayscale', \n",
    "    batch_size=8,\n",
    "    # Since we use binary_crossentropy loss, we need binary labels\n",
    "    class_mode='binary',\n",
    "    subset='training' )\n",
    "validation_generator = train_datagen.flow_from_directory(\n",
    "    data_path,  \n",
    "    target_size=(150, 150),\n",
    "    color_mode='grayscale', \n",
    "    batch_size=8,\n",
    "    # Since we use binary_crossentropy loss, we need binary labels\n",
    "    class_mode='binary',\n",
    "    subset='validation' )\n",
    "# Expected output: 'Found 80 images belonging to 2 classes'\n"
   ]
  },
  {
   "cell_type": "code",
   "execution_count": 8,
   "metadata": {},
   "outputs": [
    {
     "name": "stdout",
     "output_type": "stream",
     "text": [
      "Model: \"sequential_2\"\n",
      "_________________________________________________________________\n",
      "Layer (type)                 Output Shape              Param #   \n",
      "=================================================================\n",
      "conv2d_4 (Conv2D)            (None, 147, 147, 64)      1088      \n",
      "_________________________________________________________________\n",
      "max_pooling2d_4 (MaxPooling2 (None, 49, 49, 64)        0         \n",
      "_________________________________________________________________\n",
      "conv2d_5 (Conv2D)            (None, 46, 46, 32)        32800     \n",
      "_________________________________________________________________\n",
      "max_pooling2d_5 (MaxPooling2 (None, 15, 15, 32)        0         \n",
      "_________________________________________________________________\n",
      "flatten_2 (Flatten)          (None, 7200)              0         \n",
      "_________________________________________________________________\n",
      "dense_4 (Dense)              (None, 20)                144020    \n",
      "_________________________________________________________________\n",
      "dense_5 (Dense)              (None, 1)                 21        \n",
      "=================================================================\n",
      "Total params: 177,929\n",
      "Trainable params: 177,929\n",
      "Non-trainable params: 0\n",
      "_________________________________________________________________\n"
     ]
    }
   ],
   "source": [
    "\n",
    "# This Code Block should Define and Compile the Model. Please assume the images are 150 X 150 in your implementation.\n",
    "model = tf.keras.models.Sequential([\n",
    "    tf.keras.layers.Conv2D(64, (4,4), activation='relu', input_shape=(150, 150, 1)),\n",
    "    tf.keras.layers.MaxPooling2D(3, 3),\n",
    "    tf.keras.layers.Conv2D(32, (4,4), activation='relu'),\n",
    "    tf.keras.layers.MaxPooling2D(3,3),\n",
    "    tf.keras.layers.Flatten(),\n",
    "    tf.keras.layers.Dense(20, activation='relu'),\n",
    "    # binary classification task\n",
    "    tf.keras.layers.Dense(1, activation='sigmoid')\n",
    "])\n",
    "\n",
    "from tensorflow.keras.optimizers import RMSprop\n",
    "\n",
    "# clipnorm=0.1 clipvalue=0.5\n",
    "model.compile(optimizer=RMSprop(lr=0.001, decay=0.9), loss='binary_crossentropy', metrics=['accuracy'])\n",
    "model.summary()"
   ]
  },
  {
   "cell_type": "code",
   "execution_count": 9,
   "metadata": {},
   "outputs": [
    {
     "name": "stdout",
     "output_type": "stream",
     "text": [
      "Epoch 1/10\n",
      "9/9 - 1s - loss: 0.7138 - accuracy: 0.4167 - val_loss: 0.6913 - val_accuracy: 0.5000\n",
      "Epoch 2/10\n",
      "9/9 - 1s - loss: 0.6892 - accuracy: 0.6111 - val_loss: 0.6908 - val_accuracy: 0.5000\n",
      "Epoch 3/10\n",
      "9/9 - 1s - loss: 0.6885 - accuracy: 0.6806 - val_loss: 0.6904 - val_accuracy: 1.0000\n",
      "Epoch 4/10\n",
      "9/9 - 1s - loss: 0.6870 - accuracy: 0.8333 - val_loss: 0.6901 - val_accuracy: 1.0000\n",
      "Epoch 5/10\n",
      "9/9 - 1s - loss: 0.6863 - accuracy: 0.8056 - val_loss: 0.6898 - val_accuracy: 1.0000\n",
      "Epoch 6/10\n",
      "9/9 - 1s - loss: 0.6861 - accuracy: 0.9167 - val_loss: 0.6896 - val_accuracy: 1.0000\n",
      "Epoch 7/10\n",
      "\n",
      "Reached 99.9% accuracy so cancelling training!\n",
      "9/9 - 1s - loss: 0.6852 - accuracy: 1.0000 - val_loss: 0.6895 - val_accuracy: 1.0000\n"
     ]
    }
   ],
   "source": [
    "# This code block should call model.fit_generator and train for\n",
    "# a number of epochs.\n",
    "# model fitting\n",
    "history = model.fit_generator(\n",
    "    train_generator,\n",
    "    steps_per_epoch=9,  # x batch_size=8 = 80 images\n",
    "    epochs=10,\n",
    "    verbose=2,\n",
    "    validation_data = validation_generator,\n",
    "    validation_steps = 1,\n",
    "    callbacks=[callbacks]\n",
    ")"
   ]
  },
  {
   "cell_type": "code",
   "execution_count": 11,
   "metadata": {},
   "outputs": [
    {
     "data": {
      "image/png": "[encoded data removed]",
      "text/plain": [
       "<Figure size 432x288 with 1 Axes>"
      ]
     },
     "metadata": {
      "needs_background": "light"
     },
     "output_type": "display_data"
    },
    {
     "data": {
      "image/png": "[encoded data removed]",
      "text/plain": [
       "<Figure size 432x288 with 1 Axes>"
      ]
     },
     "metadata": {
      "needs_background": "light"
     },
     "output_type": "display_data"
    }
   ],
   "source": [
    "from keras_util import plot_history\n",
    "\n",
    "plot_history(history)\n"
   ]
  }
 ],
 "metadata": {
  "kernelspec": {
   "display_name": "Python 3",
   "language": "python",
   "name": "python3"
  },
  "language_info": {
   "codemirror_mode": {
    "name": "ipython",
    "version": 3
   },
   "file_extension": ".py",
   "mimetype": "text/x-python",
   "name": "python",
   "nbconvert_exporter": "python",
   "pygments_lexer": "ipython3",
   "version": "3.6.8"
  }
 },
 "nbformat": 4,
 "nbformat_minor": 4
}
