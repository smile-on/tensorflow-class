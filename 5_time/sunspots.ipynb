{
 "cells": [
  {
   "cell_type": "markdown",
   "metadata": {},
   "source": [
    "# Times Series of N spots on the sun\n"
   ]
  },
  {
   "cell_type": "code",
   "execution_count": null,
   "metadata": {},
   "outputs": [],
   "source": [
    "\n",
    "!wget --no-check-certificate \\\n",
    "    https://storage.googleapis.com/laurencemoroney-blog.appspot.com/Sunspots.csv \\\n",
    "    -O ../tmp2/sunspots.csv"
   ]
  },
  {
   "cell_type": "code",
   "execution_count": 14,
   "metadata": {},
   "outputs": [
    {
     "name": "stdout",
     "output_type": "stream",
     "text": [
      "Collecting statsmodels\n",
      "  Downloading https://files.pythonhosted.org/packages/d9/be/e52172762578ed6df2d0ab1c4dc567a69aa52509e77a825fdff355c8390c/statsmodels-0.10.1-cp36-none-win_amd64.whl (7.5MB)\n",
      "Requirement already satisfied: numpy>=1.11 in c:\\usr\\prj\\sl\\learn\\tf20\\lib\\site-packages (from statsmodels) (1.17.1)\n",
      "Requirement already satisfied: pandas>=0.19 in c:\\usr\\prj\\sl\\learn\\tf20\\lib\\site-packages (from statsmodels) (0.25.1)\n",
      "Collecting patsy>=0.4.0 (from statsmodels)\n",
      "  Downloading https://files.pythonhosted.org/packages/ea/0c/5f61f1a3d4385d6bf83b83ea495068857ff8dfb89e74824c6e9eb63286d8/patsy-0.5.1-py2.py3-none-any.whl (231kB)\n",
      "Requirement already satisfied: scipy>=0.18 in c:\\usr\\prj\\sl\\learn\\tf20\\lib\\site-packages (from statsmodels) (1.3.1)\n",
      "Requirement already satisfied: pytz>=2017.2 in c:\\usr\\prj\\sl\\learn\\tf20\\lib\\site-packages (from pandas>=0.19->statsmodels) (2019.2)\n",
      "Requirement already satisfied: python-dateutil>=2.6.1 in c:\\usr\\prj\\sl\\learn\\tf20\\lib\\site-packages (from pandas>=0.19->statsmodels) (2.8.0)\n",
      "Requirement already satisfied: six in c:\\usr\\prj\\sl\\learn\\tf20\\lib\\site-packages (from patsy>=0.4.0->statsmodels) (1.12.0)\n",
      "Installing collected packages: patsy, statsmodels\n",
      "Successfully installed patsy-0.5.1 statsmodels-0.10.1\n"
     ]
    },
    {
     "name": "stderr",
     "output_type": "stream",
     "text": [
      "WARNING: You are using pip version 19.2.3, however version 19.3.1 is available.\n",
      "You should consider upgrading via the 'python -m pip install --upgrade pip' command.\n"
     ]
    }
   ],
   "source": [
    "!pip install statsmodels"
   ]
  },
  {
   "cell_type": "code",
   "execution_count": 19,
   "metadata": {},
   "outputs": [],
   "source": [
    "import pandas as pd\n",
    "import matplotlib.pyplot as plt"
   ]
  },
  {
   "cell_type": "code",
   "execution_count": 16,
   "metadata": {},
   "outputs": [
    {
     "data": {
      "text/plain": [
       "Date\n",
       "1749-01-31     96.7\n",
       "1749-02-28    104.3\n",
       "1749-03-31    116.7\n",
       "1749-04-30     92.8\n",
       "1749-05-31    141.7\n",
       "Freq: M, Name: Monthly Mean Total Sunspot Number, dtype: float64"
      ]
     },
     "execution_count": 16,
     "metadata": {},
     "output_type": "execute_result"
    }
   ],
   "source": [
    "df = pd.read_csv(\"../tmp2/sunspots.csv\", parse_dates=[\"Date\"], index_col=\"Date\")\n",
    "series = df[\"Monthly Mean Total Sunspot Number\"].asfreq(\"1M\")\n",
    "series.head()"
   ]
  },
  {
   "cell_type": "markdown",
   "metadata": {},
   "source": [
    "## know your data"
   ]
  },
  {
   "cell_type": "code",
   "execution_count": 17,
   "metadata": {},
   "outputs": [
    {
     "name": "stdout",
     "output_type": "stream",
     "text": [
      "                                      ARIMA Model Results                                      \n",
      "===============================================================================================\n",
      "Dep. Variable:     D.Monthly Mean Total Sunspot Number   No. Observations:                 3234\n",
      "Model:                                  ARIMA(5, 1, 0)   Log Likelihood              -15032.204\n",
      "Method:                                        css-mle   S.D. of innovations             25.259\n",
      "Date:                                 Tue, 12 Nov 2019   AIC                          30078.408\n",
      "Time:                                         22:22:00   BIC                          30120.979\n",
      "Sample:                                     02-28-1749   HQIC                         30093.662\n",
      "                                          - 07-31-2018                                         \n",
      "=============================================================================================================\n",
      "                                                coef    std err          z      P>|z|      [0.025      0.975]\n",
      "-------------------------------------------------------------------------------------------------------------\n",
      "const                                        -0.0300      0.214     -0.140      0.889      -0.450       0.390\n",
      "ar.L1.D.Monthly Mean Total Sunspot Number    -0.4152      0.018    -23.654      0.000      -0.450      -0.381\n",
      "ar.L2.D.Monthly Mean Total Sunspot Number    -0.2979      0.019    -15.738      0.000      -0.335      -0.261\n",
      "ar.L3.D.Monthly Mean Total Sunspot Number    -0.2011      0.019    -10.411      0.000      -0.239      -0.163\n",
      "ar.L4.D.Monthly Mean Total Sunspot Number    -0.0987      0.019     -5.215      0.000      -0.136      -0.062\n",
      "ar.L5.D.Monthly Mean Total Sunspot Number    -0.0613      0.018     -3.494      0.000      -0.096      -0.027\n",
      "                                    Roots                                    \n",
      "=============================================================================\n",
      "                  Real          Imaginary           Modulus         Frequency\n",
      "-----------------------------------------------------------------------------\n",
      "AR.1            0.8392           -1.4348j            1.6623           -0.1658\n",
      "AR.2            0.8392           +1.4348j            1.6623            0.1658\n",
      "AR.3           -1.7637           -0.0000j            1.7637           -0.5000\n",
      "AR.4           -0.7623           -1.6629j            1.8292           -0.3184\n",
      "AR.5           -0.7623           +1.6629j            1.8292            0.3184\n",
      "-----------------------------------------------------------------------------\n"
     ]
    }
   ],
   "source": [
    "from statsmodels.tsa.arima_model import ARIMA\n",
    "\n",
    "model = ARIMA(series, order=(5, 1, 0))\n",
    "model_fit = model.fit(disp=0)\n",
    "print(model_fit.summary())"
   ]
  },
  {
   "cell_type": "code",
   "execution_count": 20,
   "metadata": {},
   "outputs": [
    {
     "name": "stderr",
     "output_type": "stream",
     "text": [
      "c:\\usr\\prj\\sl\\learn\\tf20\\lib\\site-packages\\pandas\\plotting\\_matplotlib\\converter.py:103: FutureWarning: Using an implicitly registered datetime converter for a matplotlib plotting method. The converter was registered by pandas on import. Future versions of pandas will require you to explicitly register matplotlib converters.\n",
      "\n",
      "To register the converters:\n",
      "\t>>> from pandas.plotting import register_matplotlib_converters\n",
      "\t>>> register_matplotlib_converters()\n",
      "  warnings.warn(msg, FutureWarning)\n"
     ]
    },
    {
     "data": {
      "text/plain": [
       "[<matplotlib.lines.Line2D at 0x1ef52275f60>]"
      ]
     },
     "execution_count": 20,
     "metadata": {},
     "output_type": "execute_result"
    },
    {
     "data": {
      "image/png": "[encoded data removed]",
      "text/plain": [
       "<Figure size 432x288 with 1 Axes>"
      ]
     },
     "metadata": {
      "needs_background": "light"
     },
     "output_type": "display_data"
    }
   ],
   "source": [
    "plt.plot(series)"
   ]
  },
  {
   "cell_type": "code",
   "execution_count": null,
   "metadata": {},
   "outputs": [],
   "source": []
  }
 ],
 "metadata": {
  "kernelspec": {
   "display_name": "Python 3",
   "language": "python",
   "name": "python3"
  },
  "language_info": {
   "codemirror_mode": {
    "name": "ipython",
    "version": 3
   },
   "file_extension": ".py",
   "mimetype": "text/x-python",
   "name": "python",
   "nbconvert_exporter": "python",
   "pygments_lexer": "ipython3",
   "version": "3.6.8"
  }
 },
 "nbformat": 4,
 "nbformat_minor": 4
}
