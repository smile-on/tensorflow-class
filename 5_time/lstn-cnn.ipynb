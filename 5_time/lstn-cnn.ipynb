{
 "cells": [
  {
   "cell_type": "markdown",
   "metadata": {},
   "source": [
    "Aurment LSTN ts leraning with CNN as pattern recognition filter (for base line?)\n",
    "\n",
    "Coding CNN + LSTN for TimeSeries\n",
    "![](lstn-cnn-code.jpg)\n",
    "\n",
    "bi-directional LSTN with CNN, helps to reduce \"plato\" \n",
    "![](lstn-cnn-validation.jpg)\n",
    "\n",
    "Compinational model has **awesome stability to noise**, that is offset by CNN filters! Look at learn function after 500 epoches.\n",
    "![](lstn-cnn-lr.jpg)\n",
    "\n",
    "Adding more layers or bi-directional features makes NN unstable as we may introduce additional batch biased noise if batch size is too small.\n",
    "![](lstn-cnn-lr2.jpg)\n",
    "\n",
    "Original LSTM+CNN notebok [S+P Week 4 Lesson 1.ipynb](https://colab.research.google.com/github/lmoroney/dlaicourse/blob/master/TensorFlow%20In%20Practice/Course%204%20-%20S%2BP/S%2BP%20Week%204%20Lesson%201.ipynb)\n"
   ]
  },
  {
   "cell_type": "markdown",
   "metadata": {},
   "source": [
    "## NG classes on tuning of DNN learning\n",
    " * [Gradient Dexcent for NN](https://www.youtube.com/watch?v=4qJaSmvhxi8).\n",
    " * [hyperparameter tuning for Deep NN](https://www.youtube.com/watch?v=1waHlpKiNyY&list=PLkDaE6sCZn6Hn0vK8co82zjQtt3T2Nkqc)\n",
    " * [Structuring Machine Learning Projects Course 3 of the Deep Learning Specialization](https://www.youtube.com/watch?v=dFX8k1kXhOw&list=PLkDaE6sCZn6E7jZ9sN_xHwSHOdjUxUW_b)\n",
    "     - [Orthogonalization in tuning C3W1L02](https://www.youtube.com/watch?v=UEtvV1D6B3s) \n",
    " \n",
    "![](ml-lr-assumptions.jpg)\n",
    "\n",
    "Use single metric to define goal of optimizational tuning.\n",
    "![](ml-lr-goal.jpg)\n"
   ]
  },
  {
   "cell_type": "markdown",
   "metadata": {},
   "source": [
    "## Real data - sunspots\n",
    "https://www.kaggle.com/robervalt/sunspots/\n",
    "![](sunspots.jpg)\n",
    "\n",
    "\n",
    "Prediction models :\n",
    " * mae 15.08 [DNN model](https://colab.research.google.com/github/lmoroney/dlaicourse/blob/master/TensorFlow%20In%20Practice/Course%204%20-%20S%2BP/S%2BP%20Week%204%20Lesson%203.ipynb)\n",
    " * mae 15.40 [LSTN model](https://colab.research.google.com/github/lmoroney/dlaicourse/blob/master/TensorFlow%20In%20Practice/Course%204%20-%20S%2BP/S%2BP%20Week%204%20Lesson%205.ipynb)\n",
    " * mae 14.39 [LSTN+CNN+DNN]()"
   ]
  }
 ],
 "metadata": {
  "kernelspec": {
   "display_name": "Python 3",
   "language": "python",
   "name": "python3"
  },
  "language_info": {
   "codemirror_mode": {
    "name": "ipython",
    "version": 3
   },
   "file_extension": ".py",
   "mimetype": "text/x-python",
   "name": "python",
   "nbconvert_exporter": "python",
   "pygments_lexer": "ipython3",
   "version": "3.6.8"
  }
 },
 "nbformat": 4,
 "nbformat_minor": 4
}
